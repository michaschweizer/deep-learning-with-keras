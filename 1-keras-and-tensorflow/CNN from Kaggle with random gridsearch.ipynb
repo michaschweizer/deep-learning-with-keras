{
 "cells": [
  {
   "cell_type": "markdown",
   "metadata": {},
   "source": [
    "## Random Grid Search Keras and Tensorflow model for Aerial Cactus Detection in Kaggle"
   ]
  },
  {
   "cell_type": "markdown",
   "metadata": {},
   "source": [
    "Note : Not all the cells have been run since we did not want to run the grid search again. (It takes over 10 hours to run) However, except for the grid search code, the outputs will be exactly the same as the Final notebook. "
   ]
  },
  {
   "cell_type": "code",
   "execution_count": 2,
   "metadata": {},
   "outputs": [],
   "source": [
    "#Importing tensorflow and keras packages for NN\n",
    "\n",
    "import tensorflow as tf\n",
    "from keras.models import Sequential, Model, load_model\n",
    "from keras.layers import Conv2D, Dense, Flatten, BatchNormalization, Dropout, LeakyReLU, Flatten\n",
    "from keras import regularizers\n",
    "from keras.optimizers import Adam\n",
    "from keras.optimizers import SGD\n",
    "from keras.wrappers.scikit_learn import KerasClassifier\n",
    "from keras.constraints import maxnorm\n",
    "from keras.callbacks import ReduceLROnPlateau, ModelCheckpoint, EarlyStopping\n",
    "\n",
    "#Importing the scikitlearn packages for ML metrics and grid search\n",
    "from sklearn.metrics import confusion_matrix, roc_auc_score, classification_report\n",
    "from sklearn.model_selection import train_test_split\n",
    "from sklearn.model_selection import RandomizedSearchCV,KFold\n",
    "from sklearn.metrics import roc_auc_score\n",
    "\n",
    "\n",
    "#Importing tqdm for progress bars\n",
    "from tqdm import tqdm, tqdm_notebook\n",
    "\n",
    "#Importing pandas and numpy for array manipulation and cv to read in the images as arrays\n",
    "import numpy as np\n",
    "import pandas as pd\n",
    "import cv2 as cv\n",
    "\n",
    "#For paths\n",
    "import os"
   ]
  },
  {
   "cell_type": "code",
   "execution_count": 3,
   "metadata": {},
   "outputs": [],
   "source": [
    "#Setting seed for reproducibility\n",
    "seed = 12345\n",
    "np.random.seed(seed)"
   ]
  },
  {
   "cell_type": "code",
   "execution_count": null,
   "metadata": {},
   "outputs": [],
   "source": [
    "#Navigating to directory with data\n",
    "os.listdir('../input')"
   ]
  },
  {
   "cell_type": "code",
   "execution_count": 4,
   "metadata": {},
   "outputs": [
    {
     "data": {
      "text/plain": [
       "['.DS_Store',\n",
       " 'test',\n",
       " 'weights-aerial-cactus.h5',\n",
       " 'test.zip',\n",
       " 'train',\n",
       " 'train.csv',\n",
       " 'train.zip',\n",
       " 'sample_submission.csv']"
      ]
     },
     "execution_count": 4,
     "metadata": {},
     "output_type": "execute_result"
    }
   ],
   "source": [
    "# Navigating to directory with data\n",
    "data_dir = '/Users/netinupur/Desktop/machine-learning-project/aerial-cactus-identification'\n",
    "os.listdir(data_dir)"
   ]
  },
  {
   "cell_type": "code",
   "execution_count": 12,
   "metadata": {},
   "outputs": [],
   "source": [
    "#Reading in training labels\n",
    "train_data = pd.read_csv('../input/train.csv')"
   ]
  },
  {
   "cell_type": "code",
   "execution_count": 5,
   "metadata": {},
   "outputs": [],
   "source": [
    "# Reading in training labels\n",
    "train_data = pd.read_csv(data_dir+'/train.csv')"
   ]
  },
  {
   "cell_type": "code",
   "execution_count": 6,
   "metadata": {},
   "outputs": [],
   "source": [
    "training_path = data_dir+'/train/'\n",
    "test_path = data_dir+ '/test/'"
   ]
  },
  {
   "cell_type": "code",
   "execution_count": 13,
   "metadata": {},
   "outputs": [
    {
     "data": {
      "text/html": [
       "<div>\n",
       "<style scoped>\n",
       "    .dataframe tbody tr th:only-of-type {\n",
       "        vertical-align: middle;\n",
       "    }\n",
       "\n",
       "    .dataframe tbody tr th {\n",
       "        vertical-align: top;\n",
       "    }\n",
       "\n",
       "    .dataframe thead th {\n",
       "        text-align: right;\n",
       "    }\n",
       "</style>\n",
       "<table border=\"1\" class=\"dataframe\">\n",
       "  <thead>\n",
       "    <tr style=\"text-align: right;\">\n",
       "      <th></th>\n",
       "      <th>id</th>\n",
       "      <th>has_cactus</th>\n",
       "    </tr>\n",
       "  </thead>\n",
       "  <tbody>\n",
       "    <tr>\n",
       "      <th>0</th>\n",
       "      <td>0004be2cfeaba1c0361d39e2b000257b.jpg</td>\n",
       "      <td>1</td>\n",
       "    </tr>\n",
       "    <tr>\n",
       "      <th>1</th>\n",
       "      <td>000c8a36845c0208e833c79c1bffedd1.jpg</td>\n",
       "      <td>1</td>\n",
       "    </tr>\n",
       "    <tr>\n",
       "      <th>2</th>\n",
       "      <td>000d1e9a533f62e55c289303b072733d.jpg</td>\n",
       "      <td>1</td>\n",
       "    </tr>\n",
       "    <tr>\n",
       "      <th>3</th>\n",
       "      <td>0011485b40695e9138e92d0b3fb55128.jpg</td>\n",
       "      <td>1</td>\n",
       "    </tr>\n",
       "    <tr>\n",
       "      <th>4</th>\n",
       "      <td>0014d7a11e90b62848904c1418fc8cf2.jpg</td>\n",
       "      <td>1</td>\n",
       "    </tr>\n",
       "  </tbody>\n",
       "</table>\n",
       "</div>"
      ],
      "text/plain": [
       "                                     id  has_cactus\n",
       "0  0004be2cfeaba1c0361d39e2b000257b.jpg           1\n",
       "1  000c8a36845c0208e833c79c1bffedd1.jpg           1\n",
       "2  000d1e9a533f62e55c289303b072733d.jpg           1\n",
       "3  0011485b40695e9138e92d0b3fb55128.jpg           1\n",
       "4  0014d7a11e90b62848904c1418fc8cf2.jpg           1"
      ]
     },
     "execution_count": 13,
     "metadata": {},
     "output_type": "execute_result"
    }
   ],
   "source": [
    "train_data.head()"
   ]
  },
  {
   "cell_type": "code",
   "execution_count": 7,
   "metadata": {},
   "outputs": [
    {
     "data": {
      "application/vnd.jupyter.widget-view+json": {
       "model_id": "f7feff299a3a47fcb09bc6d19afdc8d2",
       "version_major": 2,
       "version_minor": 0
      },
      "text/plain": [
       "HBox(children=(IntProgress(value=0, max=17500), HTML(value='')))"
      ]
     },
     "metadata": {},
     "output_type": "display_data"
    },
    {
     "name": "stdout",
     "output_type": "stream",
     "text": [
      "\n"
     ]
    }
   ],
   "source": [
    "# Convert training images to numpy arrays \n",
    "\n",
    "images_train = []\n",
    "labels_train = []\n",
    "\n",
    "images = train_data['id'].values\n",
    "for image_id in tqdm_notebook(images):     #<- tqdm_notebook adds a progress bar in jupyter notebook\n",
    "    \n",
    "    image = np.array(cv.imread(training_path + image_id))\n",
    "    label = train_data[train_data['id'] == image_id]['has_cactus'].values[0]\n",
    "    \n",
    "    images_train.append(image)             #<- Add original image\n",
    "    labels_train.append(label)\n",
    "    \n",
    "    # Data Augmentation\n",
    "    images_train.append(np.flip(image))    #<- Add flipped up down and left-right image\n",
    "    labels_train.append(label)\n",
    "    \n",
    "    images_train.append(np.flipud(image))  #<- Add flipped up down image\n",
    "    labels_train.append(label)\n",
    "    \n",
    "    images_train.append(np.fliplr(image))  #<- Add flipped left right image\n",
    "    labels_train.append(label)\n",
    "    \n",
    "    \n",
    "images_train = np.asarray(images_train)    #<- Convert combined list to np array\n",
    "images_train = images_train.astype('float32')\n",
    "images_train /= 255.                       #<- Normalize          \n",
    "  \n",
    "labels_train = np.asarray(labels_train)     # Convert training images to numpy arrays "
   ]
  },
  {
   "cell_type": "code",
   "execution_count": 8,
   "metadata": {},
   "outputs": [
    {
     "data": {
      "application/vnd.jupyter.widget-view+json": {
       "model_id": "845cf6cde3bd4a75933448b2e57fb28a",
       "version_major": 2,
       "version_minor": 0
      },
      "text/plain": [
       "HBox(children=(IntProgress(value=0, max=4000), HTML(value='')))"
      ]
     },
     "metadata": {},
     "output_type": "display_data"
    },
    {
     "name": "stdout",
     "output_type": "stream",
     "text": [
      "\n"
     ]
    }
   ],
   "source": [
    "# Convert test images to numpy arrays \n",
    "\n",
    "test_images_names = []\n",
    "\n",
    "for filename in os.listdir(test_path):\n",
    "    test_images_names.append(filename)\n",
    "    \n",
    "test_images_names.sort()\n",
    "\n",
    "images_test = []\n",
    "\n",
    "for image_id in tqdm_notebook(test_images_names):\n",
    "    images_test.append(np.array(cv.imread(test_path + image_id)))\n",
    "    \n",
    "images_test = np.asarray(images_test)\n",
    "images_test = images_test.astype('float32')\n",
    "images_test /= 255"
   ]
  },
  {
   "cell_type": "code",
   "execution_count": 9,
   "metadata": {},
   "outputs": [],
   "source": [
    "#define AUC as metric since Kaggle competition is evaluated on AUC\n",
    "def auroc(y_true, y_pred):\n",
    "    return tf.py_func(roc_auc_score, (y_true, y_pred), tf.double)"
   ]
  },
  {
   "cell_type": "code",
   "execution_count": 10,
   "metadata": {},
   "outputs": [],
   "source": [
    "def create_model(optimizer='adam', filters_1=2,filters_2=2,filters_3=2,filters_4=2,kernel_1=1,kernel_2=1, kernel_3=1,kernel_4=1,\n",
    "                 nn1=300, nn2=100, nn3 = 50, lr=0.01, l1=0.01, l2=0.01,\n",
    "                activation = 'relu', dropout_1=0, dropout_2=0, dropout_3=0, dropout_4=0):  #Set default values for hyperparameters\n",
    "    \n",
    "    #Apply l1 L2 regularization to the NN layers\n",
    "    reg = regularizers.l1_l2(l1=l1, l2=l2)\n",
    "    \n",
    "    model = Sequential()\n",
    "    \n",
    "    #Our input images are 32*32 pixels and have 3 color channels \n",
    "    model.add(Conv2D(filters = filters_1, kernel_size = 3, activation = activation, input_shape = (32, 32, 3)))\n",
    "    \n",
    "    model.add(Conv2D(filters = filters_2, kernel_size = 3, activation = activation))\n",
    "    #Normalizing intermediate layers imrpoves training speed\n",
    "    model.add(BatchNormalization())\n",
    "    #Dropout reduces training accuracy but improves test and validation accuracy\n",
    "    model.add(Dropout(dropout_1))\n",
    "    \n",
    "    model.add(Conv2D(filters = filters_3, kernel_size = 1, activation = activation))\n",
    "    model.add(Conv2D(filters = filters_4, kernel_size = 1, activation = activation))\n",
    "    model.add(BatchNormalization())\n",
    "    model.add(Dropout(dropout_2))\n",
    "   \n",
    "    #Output from convolutional layers converted to a flat array \n",
    "    model.add(Flatten())\n",
    "    \n",
    "    model.add(Dense(nn1, activation = activation,kernel_regularizer=reg))\n",
    "    model.add(BatchNormalization())\n",
    "    model.add(Dropout(dropout_3))\n",
    "    \n",
    "    model.add(Dense(nn2, activation = activation,kernel_regularizer=reg))\n",
    "    model.add(BatchNormalization())\n",
    "    model.add(Dropout(dropout_4))\n",
    "    \n",
    "    model.add(Dense(nn3, activation = 'tanh', kernel_regularizer=reg))\n",
    "    \n",
    "    #Output layer\n",
    "    model.add(Dense(1, activation = 'sigmoid'))\n",
    "    \n",
    "    #Define optimizer \n",
    "    if optimizer =='sgd':\n",
    "        optimizer = SGD(lr=lr)\n",
    "    elif optimizer == 'adam':\n",
    "        optimizer = Adam(lr=lr)\n",
    "    elif optimizer == 'rmspop':\n",
    "        optimizer = RMSprop(lr=lr)\n",
    "        \n",
    "    #Compile model\n",
    "    #We use mean_squared_error instead of the more commonly used binary_crossentropy \n",
    "    #because it significantly improved the accuracy\n",
    "    model.compile(optimizer = optimizer , loss= \"mean_squared_error\", metrics = ['accuracy',auroc])\n",
    "    \n",
    "\n",
    "    return model"
   ]
  },
  {
   "cell_type": "code",
   "execution_count": 11,
   "metadata": {},
   "outputs": [],
   "source": [
    "# Define parameter grid values for random grid search.\n",
    "\n",
    "# optimizer options\n",
    "optimizer = ['rmsprop','sgd','adam']\n",
    "\n",
    "# learning algorithm parameters\n",
    "lr=[1e-2, 1e-3, 1e-4]\n",
    "\n",
    "\n",
    "# activation\n",
    "activation=['relu', 'sigmoid', 'tanh']\n",
    "\n",
    "# neurons in each layer\n",
    "nn1=[300,700,1400,1800,2100]\n",
    "nn2=[100,400,800,1000]\n",
    "nn3=[50,150,300,500]\n",
    "\n",
    "# filters in each layer \n",
    "filters_1=[2,4,16,32,64]\n",
    "filters_2=[2,4,16,32,64]\n",
    "filters_3=[2,4,16,32,64]\n",
    "filters_4=[2,4,16,32,64]\n",
    "\n",
    "# dropout and regularisation\n",
    "dropout_1 = [0, 0.1, 0.2, 0.3, 0.4 ,0.5]\n",
    "dropout_2 = [0, 0.1, 0.2, 0.3, 0.4 ,0.5]\n",
    "dropout_3 = [0, 0.1, 0.2, 0.3, 0.4 ,0.5]\n",
    "dropout_4 = [0, 0.1, 0.2, 0.3, 0.4 ,0.5]\n",
    "\n",
    "\n",
    "l1 = [0, 0.01, 0.003, 0.001,0.0001]\n",
    "l2 = [0, 0.01, 0.003, 0.001,0.0001]\n",
    "\n",
    "# dictionary summary\n",
    "param_grid = dict(\n",
    "                    nn1=nn1, nn2=nn2, nn3=nn3,filters_1=filters_1,filters_2=filters_2,filters_3=filters_3,filters_4=filters_4,\n",
    "                    activation=activation, l1=l1, l2=l2, lr=lr, dropout_1=dropout_1, dropout_2=dropout_2, dropout_3=dropout_3, dropout_4=dropout_4, \n",
    "                  optimizer=optimizer\n",
    "                 )"
   ]
  },
  {
   "cell_type": "code",
   "execution_count": 12,
   "metadata": {},
   "outputs": [],
   "source": [
    "# Define where weights will be stored and callbacks for training. \n",
    "file_path = 'weights-aerial-cactus.h5'\n",
    "\n",
    "callbacks = [\n",
    "        ModelCheckpoint(file_path, monitor = 'val_acc', verbose = 1, save_best_only = True, mode = 'max'),\n",
    "        #ReduceLROnPlateau(monitor = 'val_loss', factor = 0.2, patience = 3, verbose = 1, mode = 'min', min_lr = 0.00001),\n",
    "        EarlyStopping(monitor = 'val_loss', min_delta = 1e-10, patience = 15, verbose = 1, restore_best_weights = True)\n",
    "        ]\n"
   ]
  },
  {
   "cell_type": "code",
   "execution_count": 13,
   "metadata": {},
   "outputs": [],
   "source": [
    "# model class to use in the scikit random search CV \n",
    "# Grid search on all 80 epochs on entire data \n",
    "model = KerasClassifier(build_fn=create_model, epochs=80, batch_size=128, verbose=1)"
   ]
  },
  {
   "cell_type": "code",
   "execution_count": 14,
   "metadata": {},
   "outputs": [],
   "source": [
    "# Define grid search\n",
    "# We use 3-fold cross validation and will be using the entire dataset for the gridsearch\n",
    "grid = RandomizedSearchCV(estimator=model, cv=KFold(3), param_distributions=param_grid, \n",
    "                          verbose=10,  n_iter=10, n_jobs=1)"
   ]
  },
  {
   "cell_type": "code",
   "execution_count": 60,
   "metadata": {},
   "outputs": [
    {
     "name": "stdout",
     "output_type": "stream",
     "text": [
      "Fitting 3 folds for each of 10 candidates, totalling 30 fits\n",
      "[CV] optimizer=rmsprop, nn3=300, nn2=400, nn1=300, lr=0.001, l2=0.01, l1=0.01, filters_4=4, filters_3=4, filters_2=4, filters_1=16, dropout_4=0.2, dropout_3=0.2, dropout_2=0.2, dropout_1=0.2, activation=tanh \n",
      "Epoch 1/1\n",
      "46666/46666 [==============================] - 157s 3ms/step - loss: 18.8804 - acc: 0.7622 - auroc: 0.6678\n"
     ]
    },
    {
     "name": "stderr",
     "output_type": "stream",
     "text": [
      "/anaconda3/lib/python3.7/site-packages/keras/callbacks.py:434: RuntimeWarning: Can save best model only with val_acc available, skipping.\n",
      "  'skipping.' % (self.monitor), RuntimeWarning)\n",
      "/anaconda3/lib/python3.7/site-packages/keras/callbacks.py:569: RuntimeWarning: Early stopping conditioned on metric `val_loss` which is not available. Available metrics are: loss,acc,auroc\n",
      "  (self.monitor, ','.join(list(logs.keys()))), RuntimeWarning\n"
     ]
    },
    {
     "name": "stdout",
     "output_type": "stream",
     "text": [
      "23334/23334 [==============================] - 16s 675us/step\n",
      "46666/46666 [==============================] - 28s 595us/step\n",
      "[CV]  optimizer=rmsprop, nn3=300, nn2=400, nn1=300, lr=0.001, l2=0.01, l1=0.01, filters_4=4, filters_3=4, filters_2=4, filters_1=16, dropout_4=0.2, dropout_3=0.2, dropout_2=0.2, dropout_1=0.2, activation=tanh, score=0.7456929802107833, total= 3.4min\n",
      "[CV] optimizer=rmsprop, nn3=300, nn2=400, nn1=300, lr=0.001, l2=0.01, l1=0.01, filters_4=4, filters_3=4, filters_2=4, filters_1=16, dropout_4=0.2, dropout_3=0.2, dropout_2=0.2, dropout_1=0.2, activation=tanh \n"
     ]
    },
    {
     "name": "stderr",
     "output_type": "stream",
     "text": [
      "[Parallel(n_jobs=1)]: Done   1 out of   1 | elapsed:  3.8min remaining:    0.0s\n"
     ]
    },
    {
     "name": "stdout",
     "output_type": "stream",
     "text": [
      "Epoch 1/1\n",
      "46667/46667 [==============================] - 89s 2ms/step - loss: 19.0361 - acc: 0.7512 - auroc: 0.6932\n",
      "23333/23333 [==============================] - 18s 787us/step\n",
      "46667/46667 [==============================] - 24s 507us/step\n",
      "[CV]  optimizer=rmsprop, nn3=300, nn2=400, nn1=300, lr=0.001, l2=0.01, l1=0.01, filters_4=4, filters_3=4, filters_2=4, filters_1=16, dropout_4=0.2, dropout_3=0.2, dropout_2=0.2, dropout_1=0.2, activation=tanh, score=0.7506535807296763, total= 1.9min\n",
      "[CV] optimizer=rmsprop, nn3=300, nn2=400, nn1=300, lr=0.001, l2=0.01, l1=0.01, filters_4=4, filters_3=4, filters_2=4, filters_1=16, dropout_4=0.2, dropout_3=0.2, dropout_2=0.2, dropout_1=0.2, activation=tanh \n"
     ]
    },
    {
     "name": "stderr",
     "output_type": "stream",
     "text": [
      "[Parallel(n_jobs=1)]: Done   2 out of   2 | elapsed:  6.1min remaining:    0.0s\n"
     ]
    },
    {
     "name": "stdout",
     "output_type": "stream",
     "text": [
      "Epoch 1/1\n",
      "46667/46667 [==============================] - 83s 2ms/step - loss: 18.8258 - acc: 0.7545 - auroc: 0.6161\n",
      "23333/23333 [==============================] - 15s 648us/step\n",
      "46667/46667 [==============================] - 22s 475us/step\n",
      "[CV]  optimizer=rmsprop, nn3=300, nn2=400, nn1=300, lr=0.001, l2=0.01, l1=0.01, filters_4=4, filters_3=4, filters_2=4, filters_1=16, dropout_4=0.2, dropout_3=0.2, dropout_2=0.2, dropout_1=0.2, activation=tanh, score=0.75553936487106, total= 1.8min\n",
      "[CV] optimizer=rmsprop, nn3=50, nn2=400, nn1=2100, lr=0.01, l2=0.0001, l1=0.003, filters_4=4, filters_3=64, filters_2=2, filters_1=2, dropout_4=0.3, dropout_3=0.3, dropout_2=0.1, dropout_1=0.2, activation=sigmoid \n"
     ]
    },
    {
     "name": "stderr",
     "output_type": "stream",
     "text": [
      "[Parallel(n_jobs=1)]: Done   3 out of   3 | elapsed:  8.3min remaining:    0.0s\n"
     ]
    },
    {
     "name": "stdout",
     "output_type": "stream",
     "text": [
      "Epoch 1/1\n",
      "46666/46666 [==============================] - 197s 4ms/step - loss: 19.7027 - acc: 0.7356 - auroc: 0.5585\n",
      "23334/23334 [==============================] - 20s 857us/step\n",
      "46666/46666 [==============================] - 31s 659us/step\n",
      "[CV]  optimizer=rmsprop, nn3=50, nn2=400, nn1=2100, lr=0.01, l2=0.0001, l1=0.003, filters_4=4, filters_3=64, filters_2=2, filters_1=2, dropout_4=0.3, dropout_3=0.3, dropout_2=0.1, dropout_1=0.2, activation=sigmoid, score=0.7456929802107833, total= 4.0min\n",
      "[CV] optimizer=rmsprop, nn3=50, nn2=400, nn1=2100, lr=0.01, l2=0.0001, l1=0.003, filters_4=4, filters_3=64, filters_2=2, filters_1=2, dropout_4=0.3, dropout_3=0.3, dropout_2=0.1, dropout_1=0.2, activation=sigmoid \n"
     ]
    },
    {
     "name": "stderr",
     "output_type": "stream",
     "text": [
      "[Parallel(n_jobs=1)]: Done   4 out of   4 | elapsed: 12.8min remaining:    0.0s\n"
     ]
    },
    {
     "name": "stdout",
     "output_type": "stream",
     "text": [
      "Epoch 1/1\n",
      "46667/46667 [==============================] - 178s 4ms/step - loss: 19.6296 - acc: 0.8003 - auroc: 0.8404\n",
      "23333/23333 [==============================] - 20s 876us/step\n",
      "46667/46667 [==============================] - 30s 653us/step\n",
      "[CV]  optimizer=rmsprop, nn3=50, nn2=400, nn1=2100, lr=0.01, l2=0.0001, l1=0.003, filters_4=4, filters_3=64, filters_2=2, filters_1=2, dropout_4=0.3, dropout_3=0.3, dropout_2=0.1, dropout_1=0.2, activation=sigmoid, score=0.24934641922306514, total= 3.5min\n",
      "[CV] optimizer=rmsprop, nn3=50, nn2=400, nn1=2100, lr=0.01, l2=0.0001, l1=0.003, filters_4=4, filters_3=64, filters_2=2, filters_1=2, dropout_4=0.3, dropout_3=0.3, dropout_2=0.1, dropout_1=0.2, activation=sigmoid \n"
     ]
    },
    {
     "name": "stderr",
     "output_type": "stream",
     "text": [
      "[Parallel(n_jobs=1)]: Done   5 out of   5 | elapsed: 16.7min remaining:    0.0s\n"
     ]
    },
    {
     "name": "stdout",
     "output_type": "stream",
     "text": [
      "Epoch 1/1\n",
      "46667/46667 [==============================] - 154s 3ms/step - loss: 19.6925 - acc: 0.7362 - auroc: 0.5615\n",
      "23333/23333 [==============================] - 22s 930us/step\n",
      "46667/46667 [==============================] - 34s 725us/step\n",
      "[CV]  optimizer=rmsprop, nn3=50, nn2=400, nn1=2100, lr=0.01, l2=0.0001, l1=0.003, filters_4=4, filters_3=64, filters_2=2, filters_1=2, dropout_4=0.3, dropout_3=0.3, dropout_2=0.1, dropout_1=0.2, activation=sigmoid, score=0.75553936487106, total= 3.1min\n",
      "[CV] optimizer=adam, nn3=50, nn2=800, nn1=2100, lr=0.01, l2=0.001, l1=0.003, filters_4=64, filters_3=2, filters_2=32, filters_1=2, dropout_4=0, dropout_3=0.2, dropout_2=0.1, dropout_1=0.3, activation=sigmoid \n"
     ]
    },
    {
     "name": "stderr",
     "output_type": "stream",
     "text": [
      "[Parallel(n_jobs=1)]: Done   6 out of   6 | elapsed: 20.4min remaining:    0.0s\n"
     ]
    },
    {
     "name": "stdout",
     "output_type": "stream",
     "text": [
      "Epoch 1/1\n",
      "46666/46666 [==============================] - 4237s 91ms/step - loss: 414.3618 - acc: 0.7886 - auroc: 0.7964\n",
      "23334/23334 [==============================] - 149s 6ms/step\n",
      "46666/46666 [==============================] - 2473s 53ms/step\n",
      "[CV]  optimizer=adam, nn3=50, nn2=800, nn1=2100, lr=0.01, l2=0.001, l1=0.003, filters_4=64, filters_3=2, filters_2=32, filters_1=2, dropout_4=0, dropout_3=0.2, dropout_2=0.1, dropout_1=0.3, activation=sigmoid, score=0.7456929802107833, total=73.2min\n",
      "[CV] optimizer=adam, nn3=50, nn2=800, nn1=2100, lr=0.01, l2=0.001, l1=0.003, filters_4=64, filters_3=2, filters_2=32, filters_1=2, dropout_4=0, dropout_3=0.2, dropout_2=0.1, dropout_1=0.3, activation=sigmoid \n"
     ]
    },
    {
     "name": "stderr",
     "output_type": "stream",
     "text": [
      "[Parallel(n_jobs=1)]: Done   7 out of   7 | elapsed: 134.8min remaining:    0.0s\n"
     ]
    },
    {
     "name": "stdout",
     "output_type": "stream",
     "text": [
      "Epoch 1/1\n",
      "46667/46667 [==============================] - 6708s 144ms/step - loss: 418.1488 - acc: 0.7776 - auroc: 0.7889\n",
      "23333/23333 [==============================] - 149s 6ms/step\n",
      "46667/46667 [==============================] - 312s 7ms/step\n",
      "[CV]  optimizer=adam, nn3=50, nn2=800, nn1=2100, lr=0.01, l2=0.001, l1=0.003, filters_4=64, filters_3=2, filters_2=32, filters_1=2, dropout_4=0, dropout_3=0.2, dropout_2=0.1, dropout_1=0.3, activation=sigmoid, score=0.7506535807296763, total=114.5min\n",
      "[CV] optimizer=adam, nn3=50, nn2=800, nn1=2100, lr=0.01, l2=0.001, l1=0.003, filters_4=64, filters_3=2, filters_2=32, filters_1=2, dropout_4=0, dropout_3=0.2, dropout_2=0.1, dropout_1=0.3, activation=sigmoid \n"
     ]
    },
    {
     "name": "stderr",
     "output_type": "stream",
     "text": [
      "[Parallel(n_jobs=1)]: Done   8 out of   8 | elapsed: 254.5min remaining:    0.0s\n"
     ]
    },
    {
     "name": "stdout",
     "output_type": "stream",
     "text": [
      "Epoch 1/1\n",
      "46667/46667 [==============================] - 4044s 87ms/step - loss: 412.7363 - acc: 0.7923 - auroc: 0.7994\n",
      "23333/23333 [==============================] - 139s 6ms/step\n",
      "46667/46667 [==============================] - 286s 6ms/step\n",
      "[CV]  optimizer=adam, nn3=50, nn2=800, nn1=2100, lr=0.01, l2=0.001, l1=0.003, filters_4=64, filters_3=2, filters_2=32, filters_1=2, dropout_4=0, dropout_3=0.2, dropout_2=0.1, dropout_1=0.3, activation=sigmoid, score=0.75553936487106, total=70.2min\n",
      "[CV] optimizer=adam, nn3=300, nn2=400, nn1=1400, lr=0.001, l2=0.0001, l1=0.01, filters_4=16, filters_3=16, filters_2=16, filters_1=2, dropout_4=0.3, dropout_3=0.1, dropout_2=0.1, dropout_1=0.4, activation=relu \n"
     ]
    },
    {
     "name": "stderr",
     "output_type": "stream",
     "text": [
      "[Parallel(n_jobs=1)]: Done   9 out of   9 | elapsed: 329.5min remaining:    0.0s\n"
     ]
    },
    {
     "name": "stdout",
     "output_type": "stream",
     "text": [
      "Epoch 1/1\n",
      "46666/46666 [==============================] - 259s 6ms/step - loss: 87.9579 - acc: 0.9036 - auroc: 0.9546\n",
      "23334/23334 [==============================] - 39s 2ms/step\n",
      "46666/46666 [==============================] - 53s 1ms/step\n",
      "[CV]  optimizer=adam, nn3=300, nn2=400, nn1=1400, lr=0.001, l2=0.0001, l1=0.01, filters_4=16, filters_3=16, filters_2=16, filters_1=2, dropout_4=0.3, dropout_3=0.1, dropout_2=0.1, dropout_1=0.4, activation=relu, score=0.7323647895416788, total= 5.3min\n",
      "[CV] optimizer=adam, nn3=300, nn2=400, nn1=1400, lr=0.001, l2=0.0001, l1=0.01, filters_4=16, filters_3=16, filters_2=16, filters_1=2, dropout_4=0.3, dropout_3=0.1, dropout_2=0.1, dropout_1=0.4, activation=relu \n",
      "Epoch 1/1\n",
      "46667/46667 [==============================] - 285s 6ms/step - loss: 88.1237 - acc: 0.8529 - auroc: 0.9203\n",
      "23333/23333 [==============================] - 31s 1ms/step\n",
      "46667/46667 [==============================] - 59s 1ms/step\n",
      "[CV]  optimizer=adam, nn3=300, nn2=400, nn1=1400, lr=0.001, l2=0.0001, l1=0.01, filters_4=16, filters_3=16, filters_2=16, filters_1=2, dropout_4=0.3, dropout_3=0.1, dropout_2=0.1, dropout_1=0.4, activation=relu, score=0.7506535807296763, total= 6.8min\n",
      "[CV] optimizer=adam, nn3=300, nn2=400, nn1=1400, lr=0.001, l2=0.0001, l1=0.01, filters_4=16, filters_3=16, filters_2=16, filters_1=2, dropout_4=0.3, dropout_3=0.1, dropout_2=0.1, dropout_1=0.4, activation=relu \n",
      "Epoch 1/1\n",
      "46667/46667 [==============================] - 286s 6ms/step - loss: 87.6872 - acc: 0.9121 - auroc: 0.9664\n",
      "23333/23333 [==============================] - 29s 1ms/step\n",
      "46667/46667 [==============================] - 50s 1ms/step\n",
      "[CV]  optimizer=adam, nn3=300, nn2=400, nn1=1400, lr=0.001, l2=0.0001, l1=0.01, filters_4=16, filters_3=16, filters_2=16, filters_1=2, dropout_4=0.3, dropout_3=0.1, dropout_2=0.1, dropout_1=0.4, activation=relu, score=0.8848840697800889, total= 5.5min\n",
      "[CV] optimizer=sgd, nn3=150, nn2=400, nn1=2100, lr=0.01, l2=0.003, l1=0.01, filters_4=16, filters_3=64, filters_2=64, filters_1=16, dropout_4=0, dropout_3=0.4, dropout_2=0, dropout_1=0.4, activation=sigmoid \n",
      "Epoch 1/1\n",
      "46666/46666 [==============================] - 424s 9ms/step - loss: 618.2664 - acc: 0.7037 - auroc: 0.7695\n",
      "23334/23334 [==============================] - 59s 3ms/step\n",
      "46666/46666 [==============================] - 105s 2ms/step\n",
      "[CV]  optimizer=sgd, nn3=150, nn2=400, nn1=2100, lr=0.01, l2=0.003, l1=0.01, filters_4=16, filters_3=64, filters_2=64, filters_1=16, dropout_4=0, dropout_3=0.4, dropout_2=0, dropout_1=0.4, activation=sigmoid, score=0.25430701978921666, total= 8.2min\n",
      "[CV] optimizer=sgd, nn3=150, nn2=400, nn1=2100, lr=0.01, l2=0.003, l1=0.01, filters_4=16, filters_3=64, filters_2=64, filters_1=16, dropout_4=0, dropout_3=0.4, dropout_2=0, dropout_1=0.4, activation=sigmoid \n",
      "Epoch 1/1\n",
      "46667/46667 [==============================] - 412s 9ms/step - loss: 617.9631 - acc: 0.7167 - auroc: 0.7867\n",
      "23333/23333 [==============================] - 63s 3ms/step\n",
      "46667/46667 [==============================] - 106s 2ms/step\n",
      "[CV]  optimizer=sgd, nn3=150, nn2=400, nn1=2100, lr=0.01, l2=0.003, l1=0.01, filters_4=16, filters_3=64, filters_2=64, filters_1=16, dropout_4=0, dropout_3=0.4, dropout_2=0, dropout_1=0.4, activation=sigmoid, score=0.7506535807296763, total= 8.1min\n",
      "[CV] optimizer=sgd, nn3=150, nn2=400, nn1=2100, lr=0.01, l2=0.003, l1=0.01, filters_4=16, filters_3=64, filters_2=64, filters_1=16, dropout_4=0, dropout_3=0.4, dropout_2=0, dropout_1=0.4, activation=sigmoid \n",
      "Epoch 1/1\n",
      "46667/46667 [==============================] - 425s 9ms/step - loss: 617.7748 - acc: 0.7036 - auroc: 0.7718\n",
      "23333/23333 [==============================] - 63s 3ms/step\n",
      "46667/46667 [==============================] - 108s 2ms/step\n",
      "[CV]  optimizer=sgd, nn3=150, nn2=400, nn1=2100, lr=0.01, l2=0.003, l1=0.01, filters_4=16, filters_3=64, filters_2=64, filters_1=16, dropout_4=0, dropout_3=0.4, dropout_2=0, dropout_1=0.4, activation=sigmoid, score=0.7556250803812815, total= 8.3min\n",
      "[CV] optimizer=rmsprop, nn3=150, nn2=100, nn1=300, lr=0.01, l2=0.0001, l1=0, filters_4=32, filters_3=4, filters_2=2, filters_1=16, dropout_4=0.2, dropout_3=0.2, dropout_2=0, dropout_1=0.4, activation=relu \n",
      "Epoch 1/1\n",
      "46666/46666 [==============================] - 176s 4ms/step - loss: 0.1048 - acc: 0.9413 - auroc: 0.9735\n",
      "23334/23334 [==============================] - 18s 785us/step\n",
      "46666/46666 [==============================] - 23s 486us/step\n",
      "[CV]  optimizer=rmsprop, nn3=150, nn2=100, nn1=300, lr=0.01, l2=0.0001, l1=0, filters_4=32, filters_3=4, filters_2=2, filters_1=16, dropout_4=0.2, dropout_3=0.2, dropout_2=0, dropout_1=0.4, activation=relu, score=0.8404474157727939, total= 3.4min\n",
      "[CV] optimizer=rmsprop, nn3=150, nn2=100, nn1=300, lr=0.01, l2=0.0001, l1=0, filters_4=32, filters_3=4, filters_2=2, filters_1=16, dropout_4=0.2, dropout_3=0.2, dropout_2=0, dropout_1=0.4, activation=relu \n",
      "Epoch 1/1\n",
      "46667/46667 [==============================] - 148s 3ms/step - loss: 0.1162 - acc: 0.9429 - auroc: 0.9760\n",
      "23333/23333 [==============================] - 17s 730us/step\n",
      "46667/46667 [==============================] - 23s 502us/step\n",
      "[CV]  optimizer=rmsprop, nn3=150, nn2=100, nn1=300, lr=0.01, l2=0.0001, l1=0, filters_4=32, filters_3=4, filters_2=2, filters_1=16, dropout_4=0.2, dropout_3=0.2, dropout_2=0, dropout_1=0.4, activation=relu, score=0.9285989799854284, total= 2.9min\n",
      "[CV] optimizer=rmsprop, nn3=150, nn2=100, nn1=300, lr=0.01, l2=0.0001, l1=0, filters_4=32, filters_3=4, filters_2=2, filters_1=16, dropout_4=0.2, dropout_3=0.2, dropout_2=0, dropout_1=0.4, activation=relu \n",
      "Epoch 1/1\n",
      "46667/46667 [==============================] - 161s 3ms/step - loss: 0.1126 - acc: 0.9407 - auroc: 0.9744\n",
      "23333/23333 [==============================] - 18s 757us/step\n",
      "46667/46667 [==============================] - 25s 537us/step\n",
      "[CV]  optimizer=rmsprop, nn3=150, nn2=100, nn1=300, lr=0.01, l2=0.0001, l1=0, filters_4=32, filters_3=4, filters_2=2, filters_1=16, dropout_4=0.2, dropout_3=0.2, dropout_2=0, dropout_1=0.4, activation=relu, score=0.7978399691398618, total= 3.3min\n",
      "[CV] optimizer=sgd, nn3=150, nn2=800, nn1=300, lr=0.0001, l2=0, l1=0.003, filters_4=64, filters_3=2, filters_2=64, filters_1=16, dropout_4=0.4, dropout_3=0.5, dropout_2=0, dropout_1=0, activation=relu \n",
      "Epoch 1/1\n",
      "46666/46666 [==============================] - 302s 6ms/step - loss: 284.8510 - acc: 0.5801 - auroc: 0.6727\n",
      "23334/23334 [==============================] - 41s 2ms/step\n",
      "46666/46666 [==============================] - 79s 2ms/step\n",
      "[CV]  optimizer=sgd, nn3=150, nn2=800, nn1=300, lr=0.0001, l2=0, l1=0.003, filters_4=64, filters_3=2, filters_2=64, filters_1=16, dropout_4=0.4, dropout_3=0.5, dropout_2=0, dropout_1=0, activation=relu, score=0.5866118110553499, total= 5.8min\n",
      "[CV] optimizer=sgd, nn3=150, nn2=800, nn1=300, lr=0.0001, l2=0, l1=0.003, filters_4=64, filters_3=2, filters_2=64, filters_1=16, dropout_4=0.4, dropout_3=0.5, dropout_2=0, dropout_1=0, activation=relu \n",
      "Epoch 1/1\n",
      "46667/46667 [==============================] - 329s 7ms/step - loss: 284.7911 - acc: 0.5756 - auroc: 0.6584\n",
      "23333/23333 [==============================] - 43s 2ms/step\n",
      "46667/46667 [==============================] - 80s 2ms/step\n",
      "[CV]  optimizer=sgd, nn3=150, nn2=800, nn1=300, lr=0.0001, l2=0, l1=0.003, filters_4=64, filters_3=2, filters_2=64, filters_1=16, dropout_4=0.4, dropout_3=0.5, dropout_2=0, dropout_1=0, activation=relu, score=0.3350190717035788, total= 6.3min\n",
      "[CV] optimizer=sgd, nn3=150, nn2=800, nn1=300, lr=0.0001, l2=0, l1=0.003, filters_4=64, filters_3=2, filters_2=64, filters_1=16, dropout_4=0.4, dropout_3=0.5, dropout_2=0, dropout_1=0, activation=relu \n",
      "Epoch 1/1\n",
      "46667/46667 [==============================] - 345s 7ms/step - loss: 284.8075 - acc: 0.5828 - auroc: 0.6578\n",
      "23333/23333 [==============================] - 64s 3ms/step\n",
      "46667/46667 [==============================] - 112s 2ms/step\n",
      "[CV]  optimizer=sgd, nn3=150, nn2=800, nn1=300, lr=0.0001, l2=0, l1=0.003, filters_4=64, filters_3=2, filters_2=64, filters_1=16, dropout_4=0.4, dropout_3=0.5, dropout_2=0, dropout_1=0, activation=relu, score=0.7173102472866925, total= 7.0min\n",
      "[CV] optimizer=adam, nn3=150, nn2=100, nn1=2100, lr=0.001, l2=0.001, l1=0.003, filters_4=32, filters_3=32, filters_2=32, filters_1=16, dropout_4=0.2, dropout_3=0.1, dropout_2=0.2, dropout_1=0, activation=tanh \n"
     ]
    },
    {
     "name": "stdout",
     "output_type": "stream",
     "text": [
      "Epoch 1/1\n",
      "46666/46666 [==============================] - 1035s 22ms/step - loss: 50.1882 - acc: 0.8651 - auroc: 0.9076\n",
      "23334/23334 [==============================] - 94s 4ms/step\n",
      "46666/46666 [==============================] - 181s 4ms/step\n",
      "[CV]  optimizer=adam, nn3=150, nn2=100, nn1=2100, lr=0.001, l2=0.001, l1=0.003, filters_4=32, filters_3=32, filters_2=32, filters_1=16, dropout_4=0.2, dropout_3=0.1, dropout_2=0.2, dropout_1=0, activation=tanh, score=0.7467215222524393, total=19.3min\n",
      "[CV] optimizer=adam, nn3=150, nn2=100, nn1=2100, lr=0.001, l2=0.001, l1=0.003, filters_4=32, filters_3=32, filters_2=32, filters_1=16, dropout_4=0.2, dropout_3=0.1, dropout_2=0.2, dropout_1=0, activation=tanh \n",
      "Epoch 1/1\n",
      "46667/46667 [==============================] - 1050s 23ms/step - loss: 50.3031 - acc: 0.8660 - auroc: 0.9140\n",
      "23333/23333 [==============================] - 95s 4ms/step\n",
      "46667/46667 [==============================] - 200s 4ms/step\n",
      "[CV]  optimizer=adam, nn3=150, nn2=100, nn1=2100, lr=0.001, l2=0.001, l1=0.003, filters_4=32, filters_3=32, filters_2=32, filters_1=16, dropout_4=0.2, dropout_3=0.1, dropout_2=0.2, dropout_1=0, activation=tanh, score=0.7612823039971515, total=20.5min\n",
      "[CV] optimizer=adam, nn3=150, nn2=100, nn1=2100, lr=0.001, l2=0.001, l1=0.003, filters_4=32, filters_3=32, filters_2=32, filters_1=16, dropout_4=0.2, dropout_3=0.1, dropout_2=0.2, dropout_1=0, activation=tanh \n",
      "Epoch 1/1\n",
      "46667/46667 [==============================] - 18271s 392ms/step - loss: 50.3910 - acc: 0.8616 - auroc: 0.9118\n",
      "23333/23333 [==============================] - 78s 3ms/step\n",
      "46667/46667 [==============================] - 153s 3ms/step\n",
      "[CV]  optimizer=adam, nn3=150, nn2=100, nn1=2100, lr=0.001, l2=0.001, l1=0.003, filters_4=32, filters_3=32, filters_2=32, filters_1=16, dropout_4=0.2, dropout_3=0.1, dropout_2=0.2, dropout_1=0, activation=tanh, score=0.75553936487106, total=306.1min\n",
      "[CV] optimizer=sgd, nn3=50, nn2=800, nn1=300, lr=0.01, l2=0, l1=0.01, filters_4=32, filters_3=2, filters_2=64, filters_1=32, dropout_4=0.5, dropout_3=0, dropout_2=0.5, dropout_1=0.2, activation=sigmoid \n",
      "Epoch 1/1\n",
      "46666/46666 [==============================] - 269s 6ms/step - loss: 148.1601 - acc: 0.7292 - auroc: 0.8025\n",
      "23334/23334 [==============================] - 41s 2ms/step\n",
      "46666/46666 [==============================] - 65s 1ms/step\n",
      "[CV]  optimizer=sgd, nn3=50, nn2=800, nn1=300, lr=0.01, l2=0, l1=0.01, filters_4=32, filters_3=2, filters_2=64, filters_1=32, dropout_4=0.5, dropout_3=0, dropout_2=0.5, dropout_1=0.2, activation=sigmoid, score=0.7495500128669932, total= 5.3min\n",
      "[CV] optimizer=sgd, nn3=50, nn2=800, nn1=300, lr=0.01, l2=0, l1=0.01, filters_4=32, filters_3=2, filters_2=64, filters_1=32, dropout_4=0.5, dropout_3=0, dropout_2=0.5, dropout_1=0.2, activation=sigmoid \n",
      "Epoch 1/1\n",
      "46667/46667 [==============================] - 544s 12ms/step - loss: 148.1757 - acc: 0.7335 - auroc: 0.8200\n",
      "23333/23333 [==============================] - 42s 2ms/step\n",
      "46667/46667 [==============================] - 78s 2ms/step\n",
      "[CV]  optimizer=sgd, nn3=50, nn2=800, nn1=300, lr=0.01, l2=0, l1=0.01, filters_4=32, filters_3=2, filters_2=64, filters_1=32, dropout_4=0.5, dropout_3=0, dropout_2=0.5, dropout_1=0.2, activation=sigmoid, score=0.793382762618558, total= 9.9min\n",
      "[CV] optimizer=sgd, nn3=50, nn2=800, nn1=300, lr=0.01, l2=0, l1=0.01, filters_4=32, filters_3=2, filters_2=64, filters_1=32, dropout_4=0.5, dropout_3=0, dropout_2=0.5, dropout_1=0.2, activation=sigmoid \n",
      "Epoch 1/1\n",
      "46667/46667 [==============================] - 272s 6ms/step - loss: 148.2696 - acc: 0.7025 - auroc: 0.7648\n",
      "23333/23333 [==============================] - 42s 2ms/step\n",
      "46667/46667 [==============================] - 67s 1ms/step\n",
      "[CV]  optimizer=sgd, nn3=50, nn2=800, nn1=300, lr=0.01, l2=0, l1=0.01, filters_4=32, filters_3=2, filters_2=64, filters_1=32, dropout_4=0.5, dropout_3=0, dropout_2=0.5, dropout_1=0.2, activation=sigmoid, score=0.75553936487106, total= 5.4min\n",
      "[CV] optimizer=sgd, nn3=300, nn2=800, nn1=1400, lr=0.001, l2=0.0001, l1=0.01, filters_4=2, filters_3=16, filters_2=64, filters_1=32, dropout_4=0, dropout_3=0.2, dropout_2=0.3, dropout_1=0.2, activation=relu \n",
      "Epoch 1/1\n",
      "46666/46666 [==============================] - 231s 5ms/step - loss: 811.9283 - acc: 0.6436 - auroc: 0.7953\n",
      "23334/23334 [==============================] - 42s 2ms/step\n",
      "46666/46666 [==============================] - 74s 2ms/step\n",
      "[CV]  optimizer=sgd, nn3=300, nn2=800, nn1=1400, lr=0.001, l2=0.0001, l1=0.01, filters_4=2, filters_3=16, filters_2=64, filters_1=32, dropout_4=0, dropout_3=0.2, dropout_2=0.3, dropout_1=0.2, activation=relu, score=0.41754521299646885, total= 4.7min\n",
      "[CV] optimizer=sgd, nn3=300, nn2=800, nn1=1400, lr=0.001, l2=0.0001, l1=0.01, filters_4=2, filters_3=16, filters_2=64, filters_1=32, dropout_4=0, dropout_3=0.2, dropout_2=0.3, dropout_1=0.2, activation=relu \n",
      "Epoch 1/1\n",
      "46667/46667 [==============================] - 265s 6ms/step - loss: 812.0399 - acc: 0.6240 - auroc: 0.7389\n",
      "23333/23333 [==============================] - 43s 2ms/step\n",
      "46667/46667 [==============================] - 88s 2ms/step\n",
      "[CV]  optimizer=sgd, nn3=300, nn2=800, nn1=1400, lr=0.001, l2=0.0001, l1=0.01, filters_4=2, filters_3=16, filters_2=64, filters_1=32, dropout_4=0, dropout_3=0.2, dropout_2=0.3, dropout_1=0.2, activation=relu, score=0.5444220631710538, total= 5.3min\n",
      "[CV] optimizer=sgd, nn3=300, nn2=800, nn1=1400, lr=0.001, l2=0.0001, l1=0.01, filters_4=2, filters_3=16, filters_2=64, filters_1=32, dropout_4=0, dropout_3=0.2, dropout_2=0.3, dropout_1=0.2, activation=relu \n",
      "Epoch 1/1\n",
      "46667/46667 [==============================] - 268s 6ms/step - loss: 811.8617 - acc: 0.6391 - auroc: 0.7495\n",
      "23333/23333 [==============================] - 39s 2ms/step\n",
      "46667/46667 [==============================] - 88s 2ms/step\n",
      "[CV]  optimizer=sgd, nn3=300, nn2=800, nn1=1400, lr=0.001, l2=0.0001, l1=0.01, filters_4=2, filters_3=16, filters_2=64, filters_1=32, dropout_4=0, dropout_3=0.2, dropout_2=0.3, dropout_1=0.2, activation=relu, score=0.7659109416257521, total= 5.3min\n"
     ]
    },
    {
     "name": "stderr",
     "output_type": "stream",
     "text": [
      "[Parallel(n_jobs=1)]: Done  30 out of  30 | elapsed: 812.8min finished\n"
     ]
    },
    {
     "name": "stdout",
     "output_type": "stream",
     "text": [
      "Epoch 1/1\n",
      "70000/70000 [==============================] - 280s 4ms/step - loss: 0.1016 - acc: 0.9309 - auroc: 0.9650\n"
     ]
    }
   ],
   "source": [
    "# Run the grid search on all 80 epochs \n",
    "grid_result_2 = grid.fit(images_train, labels_train,callbacks = callbacks )"
   ]
  },
  {
   "cell_type": "code",
   "execution_count": null,
   "metadata": {},
   "outputs": [],
   "source": [
    "cv_results_df = pd.DataFrame(grid_result_2.cv_results_)"
   ]
  },
  {
   "cell_type": "code",
   "execution_count": null,
   "metadata": {},
   "outputs": [],
   "source": [
    "cv_results_df.head()"
   ]
  },
  {
   "cell_type": "code",
   "execution_count": 63,
   "metadata": {},
   "outputs": [
    {
     "name": "stdout",
     "output_type": "stream",
     "text": [
      "{'optimizer': 'rmsprop', 'nn3': 150, 'nn2': 100, 'nn1': 300, 'lr': 0.01, 'l2': 0.0001, 'l1': 0, 'filters_4': 32, 'filters_3': 4, 'filters_2': 2, 'filters_1': 16, 'dropout_4': 0.2, 'dropout_3': 0.2, 'dropout_2': 0, 'dropout_1': 0.4, 'activation': 'relu'}\n"
     ]
    }
   ],
   "source": [
    "# Print parameters of model with best results\n",
    "print(grid_result.best_params_)"
   ]
  },
  {
   "cell_type": "code",
   "execution_count": null,
   "metadata": {},
   "outputs": [],
   "source": [
    "# Save best model .\n",
    "best_model = grid_result.best_estimator_"
   ]
  },
  {
   "cell_type": "code",
   "execution_count": null,
   "metadata": {},
   "outputs": [],
   "source": [
    "# Predict on test data \n",
    "predictions = best_model.predict(images_test, verbose = 1)"
   ]
  },
  {
   "cell_type": "code",
   "execution_count": 22,
   "metadata": {},
   "outputs": [
    {
     "data": {
      "text/plain": [
       "array([[9.9924803e-01],\n",
       "       [9.9927998e-01],\n",
       "       [8.6081028e-04],\n",
       "       ...,\n",
       "       [9.9926019e-01],\n",
       "       [9.9927843e-01],\n",
       "       [9.9926466e-01]], dtype=float32)"
      ]
     },
     "execution_count": 22,
     "metadata": {},
     "output_type": "execute_result"
    }
   ],
   "source": [
    "predictions"
   ]
  },
  {
   "cell_type": "code",
   "execution_count": null,
   "metadata": {},
   "outputs": [],
   "source": [
    "# Generate submission file \n",
    "\n",
    "test_df = pd.read_csv('../input/sample_submission.csv')\n",
    "X_test = []\n",
    "images_test = test_df['id'].values\n",
    "\n",
    "for img_id in tqdm_notebook(images_test):\n",
    "    X_test.append(cv.imread(test_path + img_id))\n",
    "    \n",
    "X_test = np.asarray(X_test)\n",
    "X_test = X_test.astype('float32')\n",
    "X_test /= 255\n",
    "\n",
    "y_test_pred = best_model.predict_proba(X_test)\n",
    "\n",
    "test_df['has_cactus'] = y_test_pred\n",
    "test_df.to_csv('aerial-cactus-submission.csv', index = False)"
   ]
  }
 ],
 "metadata": {
  "kernelspec": {
   "display_name": "Python 3",
   "language": "python",
   "name": "python3"
  },
  "language_info": {
   "codemirror_mode": {
    "name": "ipython",
    "version": 3
   },
   "file_extension": ".py",
   "mimetype": "text/x-python",
   "name": "python",
   "nbconvert_exporter": "python",
   "pygments_lexer": "ipython3",
   "version": "3.7.1"
  }
 },
 "nbformat": 4,
 "nbformat_minor": 2
}
